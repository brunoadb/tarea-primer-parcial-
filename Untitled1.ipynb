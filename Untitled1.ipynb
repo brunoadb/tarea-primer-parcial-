{
  "nbformat": 4,
  "nbformat_minor": 0,
  "metadata": {
    "colab": {
      "name": "Untitled1.ipynb",
      "provenance": []
    },
    "kernelspec": {
      "name": "python3",
      "display_name": "Python 3"
    }
  },
  "cells": [
    {
      "cell_type": "code",
      "metadata": {
        "id": "MBhxTtA71NAy",
        "outputId": "f9d3ad38-0e93-4594-b9b0-28f3fbc419e6",
        "colab": {
          "base_uri": "https://localhost:8080/"
        }
      },
      "source": [
        "#programa 1\n",
        "a= int(input(\"dame un numero:\"))\n",
        "if a%2==0:\n",
        "  print(\"par\")\n",
        "else:\n",
        "  print(\"impar\")"
      ],
      "execution_count": null,
      "outputs": [
        {
          "output_type": "stream",
          "text": [
            "dame un numero:9\n",
            "impar\n"
          ],
          "name": "stdout"
        }
      ]
    },
    {
      "cell_type": "code",
      "metadata": {
        "id": "oOZujSo03cyb",
        "outputId": "db0212ff-f728-4119-b8dd-9dfef5e69cc2",
        "colab": {
          "base_uri": "https://localhost:8080/"
        }
      },
      "source": [
        "#programa 2\n",
        "a= str(input(\"escriba n texto:\"))\n",
        "b= int(input(\"cuantas veces:\"))\n",
        "c=(a*b)\n",
        "print(c)\n"
      ],
      "execution_count": null,
      "outputs": [
        {
          "output_type": "stream",
          "text": [
            "escriba n texto:i <3 ipn\n",
            "cuantas veces:3\n",
            "i <3 ipni <3 ipni <3 ipn\n"
          ],
          "name": "stdout"
        }
      ]
    },
    {
      "cell_type": "code",
      "metadata": {
        "id": "gbQarYxT4i1_",
        "outputId": "26ffc003-3550-4fa7-e1d3-e0c75c6772a9",
        "colab": {
          "base_uri": "https://localhost:8080/"
        }
      },
      "source": [
        "#programa 3\n",
        "def pago(val1):\n",
        "  dia = (val1*150)\n",
        "  sem = (dia*5)\n",
        "  mes = (dia*20)\n",
        "  print(\"salario por dia\",dia)\n",
        "  print(\"salario por semana\",sem)\n",
        "  print(\"salario por mes\",mes)\n",
        "h=float(input(\"ingrese las horas:\"))\n",
        "pago(h)"
      ],
      "execution_count": null,
      "outputs": [
        {
          "output_type": "stream",
          "text": [
            "ingrese las horas:6\n",
            "salario por dia 900.0\n",
            "salario por semana 4500.0\n",
            "salario por mes 18000.0\n"
          ],
          "name": "stdout"
        }
      ]
    },
    {
      "cell_type": "code",
      "metadata": {
        "id": "qjrGCLFaDuPx",
        "outputId": "d2bdd236-3d18-4766-8829-6e69c82ba09a",
        "colab": {
          "base_uri": "https://localhost:8080/"
        }
      },
      "source": [
        "#programa 4\n",
        "x = int(input(\"introduce el primer valor:\"))\n",
        "y = int(input(\"introduce el segundo valor:\"))\n",
        "a = (x + y)\n",
        "b = (x - y)\n",
        "c = (x * y)\n",
        "d = (x / y)\n",
        "n  = str(input(\"escoga una opcion: a=suma b=resta c=multi d=divi:\"))\n",
        "if n == \"a\":\n",
        "  print(\"la suma es:\",a)\n",
        "if n == \"b\":\n",
        "  print(\"la resta es:\",b)\n",
        "if n == \"c\":\n",
        "  print(\"la multi es:\",c)\n",
        "if n == \"d\":\n",
        "  prit(\"la divi es:\",d)\n"
      ],
      "execution_count": null,
      "outputs": [
        {
          "output_type": "stream",
          "text": [
            "introduce el primer valor:6\n",
            "introduce el segundo valor:7\n",
            "escoga una opcion: a=suma b=resta c=multi d=divi:j\n"
          ],
          "name": "stdout"
        }
      ]
    },
    {
      "cell_type": "code",
      "metadata": {
        "id": "YREYuDDhHbEB"
      },
      "source": [
        ""
      ],
      "execution_count": null,
      "outputs": []
    },
    {
      "cell_type": "code",
      "metadata": {
        "id": "pp5ayV8oG0QU",
        "outputId": "70aba4da-a8a3-4113-9c0c-d2ef0602d1e9",
        "colab": {
          "base_uri": "https://localhost:8080/"
        }
      },
      "source": [
        "#programa 5\n",
        "def peso(val1 , val2):\n",
        " res = val1 + val2\n",
        " ext = (-10000 + res)\n",
        " if res<=10000:\n",
        "   print(\"el pedido es correcto\")\n",
        " else:\n",
        "   print(\"se pasa por\",ext,\"g\")\n",
        "\n",
        "payaso=150\n",
        "juego=170\n",
        "a = int(input(\" ingrese el numero de payasos: \"))\n",
        "b = int(input(\" ingrese el numero de juegos de mesa: \"))\n",
        "c = (payaso*a)\n",
        "d = (juego*b)\n",
        "peso(c , d) "
      ],
      "execution_count": null,
      "outputs": [
        {
          "output_type": "stream",
          "text": [
            " ingrese el numero de payasos: 90\n",
            " ingrese el numero de juegos de mesa: 69\n",
            "se pasa por 15230 g\n"
          ],
          "name": "stdout"
        }
      ]
    },
    {
      "cell_type": "code",
      "metadata": {
        "id": "A8tBt252KGHw",
        "outputId": "ddb44327-465a-442d-a075-0bef65500b35",
        "colab": {
          "base_uri": "https://localhost:8080/"
        }
      },
      "source": [
        "#programa 6\n",
        "def salario(val1):\n",
        "  if val1 < 10000:\n",
        "    print(val1-(val1*5)/100)\n",
        "  if 10000<val1<15000:\n",
        "    print(val1-(val1*10)/100)\n",
        "  if 15000<val1<20000:\n",
        "    print(val1-(val1*15)/100)\n",
        "  if val1>20000:\n",
        "    print(val1-(val1*20)/100)\n",
        "x = float(input(\"ingresa tu salario:\"))\n",
        "salario(x)\n"
      ],
      "execution_count": null,
      "outputs": [
        {
          "output_type": "stream",
          "text": [
            "ingresa tu salario:567\n",
            "538.65\n"
          ],
          "name": "stdout"
        }
      ]
    },
    {
      "cell_type": "code",
      "metadata": {
        "id": "kpLZHR-_8b5p"
      },
      "source": [
        "#programa 7\n",
        "A = [0, 50, 100]\n",
        "a = int(input(\"edad:\"))\n",
        "if (a<=4):\n",
        "  print(\"su precio es:\",A[0])\n",
        "if (4<a<16):\n",
        "  print(\"su precio es:\",A[1])\n",
        "if (a>16):\n",
        "  print(\"su precio es.\",A[2])\n",
        "B = [10, 30, 50]\n",
        "B.append(0)\n",
        "b = str(input(\"tipo de credencial? estudiante, docente, inapan: \"))\n",
        "if (b == \"estudiante\"):\n",
        "  print(\"su descuento es de:\",((B[0]*50)/100),\"pesos\")\n",
        "if (b == \"docennte\"):\n",
        "  print(\"su descuento es de:\", ((B[1]*100)/100),\"pesos\")\n",
        "if (b == \"adulto\"):\n",
        "  print(\"su descuento es de:\", ((B[2]*50)/100),\"pesos\")  \n",
        "else:\n",
        "  print(\"su descuento es de:\", ((B[3],\"pesos\")\n",
        "  e = ((B[0]*50)/100)\n",
        "  d = ((B[1]*100)/100)\n",
        "  i = ((B[2]*50)/100)\n",
        "  c = [0,0,0,0,0,0,0]\n",
        "  c[0]=(A[0])\n",
        "  c[1]= (A[1]-e)\n",
        "  c[2]= (A[1]-0)\n",
        "  c[3]= (A[2]-e)\n",
        "  c[4]= (A[2]-d)\n",
        "  c[5]= (A[2]-1)\n",
        "  c[6]= (A[2]-0)\n",
        "  print(\"precios con descuentos \", c)"
      ],
      "execution_count": 56,
      "outputs": []
    },
    {
      "cell_type": "code",
      "metadata": {
        "id": "W_Z4ALlX9bF6",
        "outputId": "b4223b34-07fb-468e-c922-2f86e41159e9",
        "colab": {
          "base_uri": "https://localhost:8080/"
        }
      },
      "source": [
        "#programa 8 \n",
        "def triangulo(n):\n",
        "  return \"\\n\".join([\"*\"*i for i in range(1,n+1)])\n",
        "numero = int(input(\"numero:\"))\n",
        "print(triangulo(numero))"
      ],
      "execution_count": 71,
      "outputs": [
        {
          "output_type": "stream",
          "text": [
            "numero:7\n",
            "*\n",
            "**\n",
            "***\n",
            "****\n",
            "*****\n",
            "******\n",
            "*******\n"
          ],
          "name": "stdout"
        }
      ]
    },
    {
      "cell_type": "code",
      "metadata": {
        "id": "6LLbGweXB-OF"
      },
      "source": [
        "#programa 9\n",
        "def factorial(val1):\n",
        "  x = int(val1)\n",
        "  count= 0\n",
        "  y=int(input(\"dam un numero:\"))\n",
        "  z=1\n",
        "factorial(y)\n",
        "while z<= x:\n",
        "  count=count*z\n",
        "  z= z+1\n",
        "print(count)"
      ],
      "execution_count": null,
      "outputs": []
    },
    {
      "cell_type": "code",
      "metadata": {
        "id": "aMoLZ13VDwKE"
      },
      "source": [
        "#programa 10\n",
        "def circulo(val1):\n",
        "  area=(val1**2*p)\n",
        "  print(\"el area del circulo es:\",area)\n",
        "def cilindro(val2):\n",
        "  res= (area*val2)\n",
        "  print(\"el area del cilindro es:\",res)\n",
        "p=3.1416\n",
        "r= float(input(\"dame el radio del circulo:\"))\n",
        "curculo(r)\n",
        "area=(r**2*p)\n",
        "h=float(input(\"dame la altura del cilindro:\"))\n",
        "cilindro(h)"
      ],
      "execution_count": null,
      "outputs": []
    }
  ]
}